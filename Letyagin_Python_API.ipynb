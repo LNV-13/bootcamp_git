{
  "nbformat": 4,
  "nbformat_minor": 0,
  "metadata": {
    "colab": {
      "provenance": []
    },
    "kernelspec": {
      "name": "python3",
      "display_name": "Python 3"
    },
    "language_info": {
      "name": "python"
    }
  },
  "cells": [
    {
      "cell_type": "code",
      "execution_count": 1,
      "metadata": {
        "colab": {
          "base_uri": "https://localhost:8080/"
        },
        "id": "0qxFksn61RBB",
        "outputId": "23718fa8-bd42-45c4-f918-ea040f4833d9"
      },
      "outputs": [
        {
          "output_type": "stream",
          "name": "stdout",
          "text": [
            "{'latitude': 55.75, 'longitude': 37.625, 'generationtime_ms': 0.02384185791015625, 'utc_offset_seconds': 0, 'timezone': 'GMT', 'timezone_abbreviation': 'GMT', 'elevation': 141.0, 'hourly_units': {'time': 'iso8601', 'temperature_2m': '°C'}, 'hourly': {'time': ['2025-07-05T00:00', '2025-07-05T01:00', '2025-07-05T02:00', '2025-07-05T03:00', '2025-07-05T04:00', '2025-07-05T05:00', '2025-07-05T06:00', '2025-07-05T07:00', '2025-07-05T08:00', '2025-07-05T09:00', '2025-07-05T10:00', '2025-07-05T11:00', '2025-07-05T12:00', '2025-07-05T13:00', '2025-07-05T14:00', '2025-07-05T15:00', '2025-07-05T16:00', '2025-07-05T17:00', '2025-07-05T18:00', '2025-07-05T19:00', '2025-07-05T20:00', '2025-07-05T21:00', '2025-07-05T22:00', '2025-07-05T23:00', '2025-07-06T00:00', '2025-07-06T01:00', '2025-07-06T02:00', '2025-07-06T03:00', '2025-07-06T04:00', '2025-07-06T05:00', '2025-07-06T06:00', '2025-07-06T07:00', '2025-07-06T08:00', '2025-07-06T09:00', '2025-07-06T10:00', '2025-07-06T11:00', '2025-07-06T12:00', '2025-07-06T13:00', '2025-07-06T14:00', '2025-07-06T15:00', '2025-07-06T16:00', '2025-07-06T17:00', '2025-07-06T18:00', '2025-07-06T19:00', '2025-07-06T20:00', '2025-07-06T21:00', '2025-07-06T22:00', '2025-07-06T23:00'], 'temperature_2m': [15.3, 15.0, 15.0, 15.3, 16.2, 16.7, 17.3, 18.2, 19.0, 19.6, 19.8, 20.9, 21.6, 21.6, 20.8, 20.5, 19.9, 18.9, 17.3, 16.1, 15.1, 14.4, 13.6, 13.3, 13.1, 13.1, 13.0, 13.9, 15.0, 15.9, 16.3, 17.2, 17.2, 17.9, 19.1, 19.5, 19.1, 19.6, 20.3, 20.6, 20.2, 19.3, 18.3, 17.5, 17.0, 16.8, 16.5, 16.1]}}\n",
            "               time  temperature  latitude  longitude    city  \\\n",
            "0  2025-07-05T00:00         15.3     55.75     37.625  Moscow   \n",
            "1  2025-07-05T01:00         15.0     55.75     37.625  Moscow   \n",
            "2  2025-07-05T02:00         15.0     55.75     37.625  Moscow   \n",
            "3  2025-07-05T03:00         15.3     55.75     37.625  Moscow   \n",
            "4  2025-07-05T04:00         16.2     55.75     37.625  Moscow   \n",
            "\n",
            "             update_at  \n",
            "0  2025-07-04 19:06:59  \n",
            "1  2025-07-04 19:06:59  \n",
            "2  2025-07-04 19:06:59  \n",
            "3  2025-07-04 19:06:59  \n",
            "4  2025-07-04 19:06:59  \n"
          ]
        }
      ],
      "source": [
        "import requests\n",
        "import csv\n",
        "import pandas as pd\n",
        "from datetime import datetime, timedelta\n",
        "from pathlib import Path\n",
        "start_date = \"2025-07-05\"\n",
        "end_date = \"2025-07-06\"\n",
        "response = requests.get('https://api.open-meteo.com/v1/forecast',\n",
        "params={\"latitude\": 55.7522,\n",
        "\t\"longitude\": 37.6156,\n",
        "\t\"hourly\": \"temperature_2m\",\n",
        "\t\"start_date\": \"2025-07-05\",\n",
        "\t\"end_date\": \"2025-07-06\"})\n",
        "data = response.json()\n",
        "print(data)\n",
        "df = pd.DataFrame({\n",
        "            'time': data['hourly']['time'],\n",
        "            'temperature': data['hourly']['temperature_2m']\n",
        "        })\n",
        "\n",
        "df['latitude'] = data['latitude']\n",
        "df['longitude'] = data['longitude']\n",
        "df['city'] = 'Moscow'\n",
        "df['update_at'] = datetime.now().strftime(\"%Y-%m-%d %H:%M:%S\")\n",
        "print (df.head(5))\n",
        "\n",
        "path = Path('tmp') / 'tmp' / 'weather.csv'\n",
        "df.to_csv ('weather.csv')"
      ]
    }
  ]
}