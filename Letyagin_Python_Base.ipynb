{
  "nbformat": 4,
  "nbformat_minor": 0,
  "metadata": {
    "colab": {
      "provenance": []
    },
    "kernelspec": {
      "name": "python3",
      "display_name": "Python 3"
    },
    "language_info": {
      "name": "python"
    }
  },
  "cells": [
    {
      "cell_type": "code",
      "execution_count": null,
      "metadata": {
        "id": "EUXzXyh8D_Ve"
      },
      "outputs": [],
      "source": [
        "Задание 1 (Проверка валидности пароля)\n",
        "\n",
        "Напиши условие, которое проверяет пароль по следующим условиям:\n",
        "\n",
        "- Длина от 8 до 20 символов;\n",
        "- Есть хотя бы одна буква;\n",
        "- Есть хотя бы одна цифра;\n",
        "- Не начинается с цифры;\n",
        "- Нет пробелов."
      ]
    },
    {
      "cell_type": "code",
      "source": [
        "passwords = [\"Fk2r4snrU#\", \"12345\", \"skdjfsfnsncslds\", \"sd123laksdsdf\", \"sd123lak sdsdf\"]\n",
        "\n",
        "for password in passwords:\n",
        "    if (len (password) >= 8 and len (password) <= 20\n",
        "            and any(character.isalpha() for character in password)\n",
        "            and any(digit.isdigit() for digit in password)\n",
        "            and not password[0].isdigit() and not ' ' in password):\n",
        "        print(\"Пароль валиден\")\n",
        "    else:\n",
        "        print(\"Пароль невалиден\")"
      ],
      "metadata": {
        "id": "Qv1_Gz8AEDky",
        "colab": {
          "base_uri": "https://localhost:8080/"
        },
        "outputId": "6b5bc7b0-852f-4b4c-9906-924cca418b0f"
      },
      "execution_count": null,
      "outputs": [
        {
          "output_type": "stream",
          "name": "stdout",
          "text": [
            "Пароль валиден\n",
            "Пароль невалиден\n",
            "Пароль невалиден\n",
            "Пароль валиден\n",
            "Пароль невалиден\n"
          ]
        }
      ]
    },
    {
      "cell_type": "code",
      "source": [
        "2. Найти слова, начинающиеся или заканчивающиеся на букву. Вывести список этих слов."
      ],
      "metadata": {
        "id": "BH_pWMoiEIW3"
      },
      "execution_count": null,
      "outputs": []
    },
    {
      "cell_type": "code",
      "source": [
        "text = \"Анна купила арбуз, а потом абрикос и банан\"\n",
        "letter = \"а\"\n",
        "result = []\n",
        "mod_text = text.replace (',','')\n",
        "mod_text2 = mod_text.split()\n",
        "for word in mod_text2:\n",
        "    if word[0].lower() == letter or word[-1].lower() == letter or word[0].upper() == letter or word[-1].upper() == letter:\n",
        "        result.append(word)\n",
        "print(result)"
      ],
      "metadata": {
        "id": "sO82f9WLEN-P",
        "colab": {
          "base_uri": "https://localhost:8080/"
        },
        "outputId": "0e524278-6cf2-42c0-8d7e-b63d4c38430e"
      },
      "execution_count": null,
      "outputs": [
        {
          "output_type": "stream",
          "name": "stdout",
          "text": [
            "['Анна', 'купила', 'арбуз', 'а', 'абрикос']\n"
          ]
        }
      ]
    },
    {
      "cell_type": "code",
      "source": [
        "3. Разделение чётных и нечётных чисел. Вывести четные числа и нечетные числа без дубликатов"
      ],
      "metadata": {
        "id": "a7F7FaXBFeza"
      },
      "execution_count": null,
      "outputs": []
    },
    {
      "cell_type": "code",
      "source": [
        "nums = [1, 2, 3, 4, 5, 6, 2, 8, 3, 11, 1, 13, 5]\n",
        "\n",
        "even_set = set()\n",
        "odd_set = set()\n",
        "for num in nums:\n",
        "    if num % 2 == 0:\n",
        "       even_set.add(num)\n",
        "    else:\n",
        "       odd_set.add(num)\n",
        "print(\"Чётные:\", even_set)\n",
        "print(\"Нечётные:\", odd_set)"
      ],
      "metadata": {
        "id": "u8A9OS4THSRX",
        "colab": {
          "base_uri": "https://localhost:8080/"
        },
        "outputId": "d8237cf1-9296-449c-ad04-57d949fdc68d"
      },
      "execution_count": null,
      "outputs": [
        {
          "output_type": "stream",
          "name": "stdout",
          "text": [
            "Чётные: {8, 2, 4, 6}\n",
            "Нечётные: {1, 3, 5, 11, 13}\n"
          ]
        }
      ]
    },
    {
      "cell_type": "code",
      "source": [
        "4. Вывести все имена людей, у кого возраст больше 18 лет в формате списка"
      ],
      "metadata": {
        "id": "_a5WncTVIgBZ"
      },
      "execution_count": null,
      "outputs": []
    },
    {
      "cell_type": "code",
      "source": [
        "people = [(\"Аня\", 20), (\"Борис\", 17), (\"Вика\", 25), (\"Глеб\", 15)]\n",
        "\n",
        "adults = []\n",
        "for i in people:\n",
        "    if i[-1] > 18:\n",
        "        adults.append(i[0])\n",
        "print(\"Взрослые:\", adults)"
      ],
      "metadata": {
        "id": "mDFXE27_IfcL",
        "colab": {
          "base_uri": "https://localhost:8080/"
        },
        "outputId": "9c4c0b7e-0f32-47fe-e9ce-6477c9e81822"
      },
      "execution_count": null,
      "outputs": [
        {
          "output_type": "stream",
          "name": "stdout",
          "text": [
            "Взрослые: ['Аня', 'Вика']\n"
          ]
        }
      ]
    }
  ]
}